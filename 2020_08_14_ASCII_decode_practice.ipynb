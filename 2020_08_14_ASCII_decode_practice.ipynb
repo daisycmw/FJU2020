{
  "nbformat": 4,
  "nbformat_minor": 0,
  "metadata": {
    "colab": {
      "name": "2020-08-14 ASCII decode practice.ipynb",
      "provenance": [],
      "collapsed_sections": [],
      "authorship_tag": "ABX9TyMxB0j2j8oNw/uUGEyiuGTK",
      "include_colab_link": true
    },
    "kernelspec": {
      "name": "python3",
      "display_name": "Python 3"
    }
  },
  "cells": [
    {
      "cell_type": "markdown",
      "metadata": {
        "id": "view-in-github",
        "colab_type": "text"
      },
      "source": [
        "<a href=\"https://colab.research.google.com/github/daisycmw/FJU2020/blob/master/2020_08_14_ASCII_decode_practice.ipynb\" target=\"_parent\"><img src=\"https://colab.research.google.com/assets/colab-badge.svg\" alt=\"Open In Colab\"/></a>"
      ]
    },
    {
      "cell_type": "code",
      "metadata": {
        "id": "gbN1q3RS0Z7_",
        "colab_type": "code",
        "colab": {
          "base_uri": "https://localhost:8080/",
          "height": 35
        },
        "outputId": "49bbc26e-e2e0-4460-d7af-e813c0518540"
      },
      "source": [
        "# a = 將字串 (\"\") 分割 (split)，分割依據為空白(\" \")\n",
        "a=\"66 114 101 97 107 65 76 76 67 84 70 123 65 109 118 48 117 68 121 101 114 118 80 116 109 86 114 57 83 83 83 75 125\".split(\" \")\n",
        "\n",
        "# result = 結果字串，初始為空白\n",
        "result=\"\"\n",
        "\n",
        "# 處理過程\n",
        "\n",
        "# 當 x 在 a 中 (是字串)\n",
        "for x in a:\n",
        "# 將字串 x 轉為整數 (int) 後進行 ASCII 編碼轉換 (chr) 得 y\n",
        "  y = chr(int(x))\n",
        "# 將 y 丟入結果串中 (result = result + y)\n",
        "  result += y\n",
        "\n",
        "result"
      ],
      "execution_count": 1,
      "outputs": [
        {
          "output_type": "execute_result",
          "data": {
            "application/vnd.google.colaboratory.intrinsic+json": {
              "type": "string"
            },
            "text/plain": [
              "'BreakALLCTF{Amv0uDyervPtmVr9SSSK}'"
            ]
          },
          "metadata": {
            "tags": []
          },
          "execution_count": 1
        }
      ]
    }
  ]
}